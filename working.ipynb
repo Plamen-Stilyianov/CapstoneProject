{
 "cells": [
  {
   "cell_type": "code",
   "execution_count": 1,
   "id": "initial_id",
   "metadata": {
    "collapsed": true,
    "ExecuteTime": {
     "end_time": "2024-03-13T13:32:07.514385Z",
     "start_time": "2024-03-13T13:31:59.401328Z"
    }
   },
   "outputs": [
    {
     "name": "stdout",
     "output_type": "stream",
     "text": [
      "WARNING:tensorflow:From C:\\Java\\Python3.10.8\\lib\\site-packages\\keras\\src\\losses.py:2976: The name tf.losses.sparse_softmax_cross_entropy is deprecated. Please use tf.compat.v1.losses.sparse_softmax_cross_entropy instead.\n"
     ]
    }
   ],
   "source": [
    "from numpy import array\n",
    "from numpy import hstack\n",
    "from keras.models import Sequential\n",
    "from keras.layers import LSTM\n",
    "from keras.layers import Dense\n",
    "from keras import callbacks\n",
    "from sklearn.model_selection import train_test_split\n",
    "from keras.layers import Flatten\n",
    "from keras.layers import TimeDistributed\n",
    "from keras.layers import Conv1D\n",
    "from keras.layers import MaxPooling1D\n",
    "from IPython.display import clear_output\n",
    "import datetime\n",
    "import statistics\n",
    "import time\n",
    "import os\n",
    "import json\n",
    "import yfinance as yf\n",
    "from keras.models import model_from_json\n",
    "import requests\n",
    "from keras.models import load_model\n",
    "from matplotlib import pyplot as plt"
   ]
  },
  {
   "cell_type": "code",
   "outputs": [],
   "source": [
    "def data_setup(symbol,data_len,seq_len):\n",
    "    end = datetime.datetime.today().strftime('%Y-%m-%d')\n",
    "    start = datetime.datetime.strptime(end, '%Y-%m-%d') - datetime.timedelta(days=(data_len/0.463))\n",
    "    orig_dataset = yf.download(symbol,start,end)\n",
    "    close = orig_dataset['Close'].values\n",
    "    open_ = orig_dataset['Open'].values\n",
    "    high = orig_dataset['High'].values\n",
    "    low = orig_dataset['Low'].values\n",
    "    dataset,minmax = normalize_data(orig_dataset)\n",
    "    cols = dataset.columns.tolist()\n",
    "\n",
    "    data_seq = list()\n",
    "    for i in range(len(cols)):\n",
    "        if cols[i] < 4:\n",
    "            data_seq.append(dataset[cols[i]].values)\n",
    "            data_seq[i] = data_seq[i].reshape((len(data_seq[i]), 1))\n",
    "    data = hstack(data_seq)\n",
    "    n_steps = seq_len\n",
    "    X, y = split_sequences(data, n_steps)\n",
    "    n_features = X.shape[2]\n",
    "    n_seq = len(X)\n",
    "    n_steps = seq_len\n",
    "    print(X.shape)\n",
    "    X = X.reshape((n_seq,1, n_steps, n_features))\n",
    "    true_y = []\n",
    "    for i in range(len(y)):\n",
    "        true_y.append([y[i][0],y[i][1]])\n",
    "    return X,array(true_y),n_features,minmax,n_steps,close,open_,high,low"
   ],
   "metadata": {
    "collapsed": false,
    "ExecuteTime": {
     "end_time": "2024-03-13T13:32:07.530334Z",
     "start_time": "2024-03-13T13:32:07.515383Z"
    }
   },
   "id": "dd77e54fbd0b551b",
   "execution_count": 2
  },
  {
   "cell_type": "code",
   "outputs": [],
   "source": [
    "#(n_seq,1, n_steps, n_features)"
   ],
   "metadata": {
    "collapsed": false,
    "ExecuteTime": {
     "end_time": "2024-03-13T13:32:07.546280Z",
     "start_time": "2024-03-13T13:32:07.531333Z"
    }
   },
   "id": "dd31d5b96a52d82a",
   "execution_count": 3
  },
  {
   "cell_type": "code",
   "outputs": [],
   "source": [
    "def split_sequences(sequences, n_steps):\n",
    "    X, y = list(), list()\n",
    "    for i in range(len(sequences)):\n",
    "        end_ix = i + n_steps\n",
    "        if end_ix > len(sequences)-1:\n",
    "            break\n",
    "        seq_x, seq_y = sequences[i:end_ix, :], sequences[end_ix, :]\n",
    "        X.append(seq_x)\n",
    "        y.append(seq_y)\n",
    "    return array(X), array(y)"
   ],
   "metadata": {
    "collapsed": false,
    "ExecuteTime": {
     "end_time": "2024-03-13T13:32:07.561977Z",
     "start_time": "2024-03-13T13:32:07.547277Z"
    }
   },
   "id": "dbee215c0f6e5522",
   "execution_count": 4
  },
  {
   "cell_type": "code",
   "outputs": [],
   "source": [
    "def normalize_data(dataset):\n",
    "    cols = dataset.columns.tolist()\n",
    "    col_name = [0]*len(cols)\n",
    "    for i in range(len(cols)):\n",
    "        col_name[i] = i\n",
    "    dataset.columns = col_name\n",
    "    dtypes = dataset.dtypes.tolist()\n",
    "    #         orig_answers = dataset[attr_row_predict].values\n",
    "    minmax = list()\n",
    "    for column in dataset:\n",
    "        dataset = dataset.astype({column: 'float32'})\n",
    "    for i in range(len(cols)):\n",
    "        col_values = dataset[col_name[i]]\n",
    "        value_min = min(col_values)\n",
    "        value_max = max(col_values)\n",
    "        minmax.append([value_min, value_max])\n",
    "    for column in dataset:\n",
    "        values = dataset[column].values\n",
    "        for i in range(len(values)):\n",
    "            values[i] = (values[i] - minmax[column][0]) / (minmax[column][1] - minmax[column][0])\n",
    "        dataset[column] = values\n",
    "    dataset[column] = values\n",
    "    return dataset,minmax"
   ],
   "metadata": {
    "collapsed": false,
    "ExecuteTime": {
     "end_time": "2024-03-13T13:32:07.577923Z",
     "start_time": "2024-03-13T13:32:07.562974Z"
    }
   },
   "id": "924ae8d47ac3a4e9",
   "execution_count": 5
  },
  {
   "cell_type": "code",
   "outputs": [],
   "source": [
    "# value = (value - minimum) / maximum"
   ],
   "metadata": {
    "collapsed": false,
    "ExecuteTime": {
     "end_time": "2024-03-13T13:32:07.593374Z",
     "start_time": "2024-03-13T13:32:07.578920Z"
    }
   },
   "id": "9a8f9ef80d57ea16",
   "execution_count": 6
  },
  {
   "cell_type": "code",
   "outputs": [],
   "source": [
    "def enviroment_setup(X,y):\n",
    "    X_train, X_test, y_train, y_test = train_test_split(X, y, test_size=0.33)\n",
    "    return X_train, X_test, y_train, y_test"
   ],
   "metadata": {
    "collapsed": false,
    "ExecuteTime": {
     "end_time": "2024-03-13T13:32:07.608576Z",
     "start_time": "2024-03-13T13:32:07.594401Z"
    }
   },
   "id": "b86571186666ffd",
   "execution_count": 7
  },
  {
   "cell_type": "code",
   "outputs": [],
   "source": [
    "def initialize_network(n_steps,n_features,optimizer):\n",
    "    model = Sequential()\n",
    "    model.add(TimeDistributed(Conv1D(filters=64, kernel_size=1, activation='relu'), input_shape=(None, n_steps, n_features)))\n",
    "    model.add(TimeDistributed(MaxPooling1D(pool_size=2)))\n",
    "    model.add(TimeDistributed(Flatten()))\n",
    "    model.add(LSTM(50, activation='relu'))\n",
    "    model.add(Dense(2))\n",
    "    model.compile(optimizer=optimizer, loss='mse')\n",
    "    return model"
   ],
   "metadata": {
    "collapsed": false,
    "ExecuteTime": {
     "end_time": "2024-03-13T13:32:07.624004Z",
     "start_time": "2024-03-13T13:32:07.609573Z"
    }
   },
   "id": "1cc1f54d0914c30f",
   "execution_count": 8
  },
  {
   "cell_type": "code",
   "outputs": [],
   "source": [
    "def train_model(X_train,y_train,model,epochs):\n",
    "    dirx = 'something directory'\n",
    "    os.chdir(dirx)\n",
    "    h5='Stocks'+'_best_model'+'.h5'\n",
    "    checkpoint = callbacks.ModelCheckpoint(h5, monitor='val_loss', verbose=0, save_best_only=True, save_weights_only=True, mode='auto', period=1)\n",
    "    earlystop = callbacks.EarlyStopping(monitor='val_loss', min_delta=0, patience=epochs * 1/4, verbose=0, mode='auto', baseline=None, restore_best_weights=True)\n",
    "    callback = [earlystop,checkpoint]\n",
    "    json = 'Stocks'+'_best_model'+'.json'\n",
    "    model_json = model.to_json()\n",
    "    with open(json, \"w\") as json_file:\n",
    "        json_file.write(model_json)\n",
    "    history = model.fit(X_train, y_train, epochs=epochs, batch_size=len(X_train)//4, verbose=2,validation_split = 0.3, callbacks = callback)\n",
    "    return history"
   ],
   "metadata": {
    "collapsed": false,
    "ExecuteTime": {
     "end_time": "2024-03-13T13:32:07.639950Z",
     "start_time": "2024-03-13T13:32:07.625Z"
    }
   },
   "id": "17aa123aac0e615e",
   "execution_count": 9
  },
  {
   "cell_type": "code",
   "outputs": [],
   "source": [
    "def load_keras_model(dataset,model,loss,optimizer):\n",
    "    dirx = 'something directory'\n",
    "    os.chdir(dirx)\n",
    "    json_file = open(dataset+'_best_model'+'.json', 'r')\n",
    "    loaded_model_json = json_file.read()\n",
    "    json_file.close()\n",
    "    model = model_from_json(loaded_model_json)\n",
    "    model.compile(optimizer=optimizer, loss=loss, metrics = None)\n",
    "    model.load_weights(dataset+'_best_model'+'.h5')\n",
    "    return model"
   ],
   "metadata": {
    "collapsed": false,
    "ExecuteTime": {
     "end_time": "2024-03-13T13:32:07.656022Z",
     "start_time": "2024-03-13T13:32:07.641944Z"
    }
   },
   "id": "d7509b4ffd6f2e71",
   "execution_count": 10
  },
  {
   "cell_type": "code",
   "outputs": [],
   "source": [
    "def plot_loss(history):\n",
    "    plt.figure(figsize=(20,5))\n",
    "    plt.plot(history.history['loss'], 'g', label='Training Loss')\n",
    "    plt.plot(history.history['val_loss'], 'b', label='Validation Loss')\n",
    "    plt.xlim([0, 100])\n",
    "    plt.ylim([0, 300])\n",
    "    plt.xlabel('Epoch')\n",
    "    plt.ylabel('Loss')\n",
    "    plt.legend()\n",
    "    plt.grid(True)"
   ],
   "metadata": {
    "collapsed": false,
    "ExecuteTime": {
     "end_time": "2024-03-13T13:32:07.671058Z",
     "start_time": "2024-03-13T13:32:07.657019Z"
    }
   },
   "id": "b2a1cdaf93fc009a",
   "execution_count": 11
  },
  {
   "cell_type": "code",
   "outputs": [],
   "source": [
    "def evaluation(exe_time,X_test, y_test,X_train, y_train,history,model,optimizer,loss):\n",
    "    model = load_keras_model('Stocks',model,loss,optimizer)\n",
    "    test_loss = model.evaluate(X_test, y_test, verbose=0)\n",
    "    train_loss = model.evaluate(X_train, y_train, verbose=0)\n",
    "    eval_test_loss = round(100-(test_loss*100),1)\n",
    "    eval_train_loss = round(100-(train_loss*100),1)\n",
    "    eval_average_loss = round((eval_test_loss + eval_train_loss)/2,1)\n",
    "    print(\"--- Training Report ---\")\n",
    "    plot_loss(history)\n",
    "    print('Execution time: ',round(exe_time,2),'s')\n",
    "    print('Testing Accuracy:',eval_test_loss,'%')\n",
    "    print('Training Accuracy:',eval_train_loss,'%')\n",
    "    print('Average Network Accuracy:',eval_average_loss,'%')\n",
    "    return model,eval_test_loss"
   ],
   "metadata": {
    "collapsed": false,
    "ExecuteTime": {
     "end_time": "2024-03-13T13:32:07.686443Z",
     "start_time": "2024-03-13T13:32:07.672292Z"
    }
   },
   "id": "98a05c98c2a0e03c",
   "execution_count": 12
  },
  {
   "cell_type": "code",
   "outputs": [],
   "source": [
    "def market_predict(model,minmax,seq_len,n_features,n_steps,data,test_loss):\n",
    "    pred_data = data[-1].reshape((len(data[-1]),1, n_steps, n_features))\n",
    "    pred = model.predict(pred_data)[0]\n",
    "    appro_loss = list()\n",
    "    for i in range(len(pred)):\n",
    "        pred[i] = pred[i] * (minmax[i][1] - minmax[i][0]) + minmax[i][0]\n",
    "        appro_loss.append(((100-test_loss)/100) * (minmax[i][1] - minmax[i][0]))\n",
    "    return pred,appro_loss"
   ],
   "metadata": {
    "collapsed": false,
    "ExecuteTime": {
     "end_time": "2024-03-13T13:32:07.702527Z",
     "start_time": "2024-03-13T13:32:07.687440Z"
    }
   },
   "id": "c6cfdf6116df5a2a",
   "execution_count": 13
  },
  {
   "cell_type": "code",
   "outputs": [],
   "source": [
    "def create_order(pred_price,company,test_loss,appro_loss):\n",
    "    open_price,close_price = pred_price[0],pred_price[1]\n",
    "    if open_price > close_price:\n",
    "        side = 'sell'\n",
    "    elif open_price < close_price:\n",
    "        side = 'buy'\n",
    "    if side == 'buy':\n",
    "        order = {\n",
    "            'symbol':company,\n",
    "            'qty':round(20*(test_loss/100)),\n",
    "            'type':'stop_limit',\n",
    "            'time_in_force':'day',\n",
    "            'side': 'buy',\n",
    "            'take_profit': close_price + appro_loss,\n",
    "            'stop_loss': close_price - appro_loss\n",
    "        }\n",
    "    elif side == 'sell':\n",
    "        order = {\n",
    "            'symbol':company,\n",
    "            'qty':round(20*(test_loss/100)),\n",
    "            'type':'stop_limit',\n",
    "            'time_in_force':'day',\n",
    "            'side': 'sell',\n",
    "            'take_profit':close_price - appro_loss,\n",
    "            'stop_loss':close_price + appro_loss\n",
    "        }\n",
    "    r = requests.post(ORDERS_URL, json = order,headers = HEADERS)\n",
    "    print(r.content)"
   ],
   "metadata": {
    "collapsed": false,
    "ExecuteTime": {
     "end_time": "2024-03-13T13:32:07.718202Z",
     "start_time": "2024-03-13T13:32:07.703838Z"
    }
   },
   "id": "a5423dddfb1a5a3b",
   "execution_count": 14
  },
  {
   "cell_type": "code",
   "outputs": [],
   "source": [
    "BASE_URL = 'https://paper-api.alpaca.markets'\n",
    "API_KEY = 'XXXXXXXX'\n",
    "SECRET_KEY = 'XXXXXXXX'\n",
    "ORDERS_URL = '{}/v2/orders'.format(BASE_URL)\n",
    "HEADERS = {'APCA-API-KEY-ID':API_KEY,'APCA-API-SECRET-KEY':SECRET_KEY}"
   ],
   "metadata": {
    "collapsed": false,
    "ExecuteTime": {
     "end_time": "2024-03-13T13:32:07.734311Z",
     "start_time": "2024-03-13T13:32:07.721186Z"
    }
   },
   "id": "f593df6ed016e844",
   "execution_count": 15
  },
  {
   "cell_type": "code",
   "outputs": [],
   "source": [],
   "metadata": {
    "collapsed": false,
    "ExecuteTime": {
     "end_time": "2024-03-13T13:32:07.749740Z",
     "start_time": "2024-03-13T13:32:07.735597Z"
    }
   },
   "id": "eb9b955c8df85ecf",
   "execution_count": 15
  }
 ],
 "metadata": {
  "kernelspec": {
   "display_name": "Python 3",
   "language": "python",
   "name": "python3"
  },
  "language_info": {
   "codemirror_mode": {
    "name": "ipython",
    "version": 2
   },
   "file_extension": ".py",
   "mimetype": "text/x-python",
   "name": "python",
   "nbconvert_exporter": "python",
   "pygments_lexer": "ipython2",
   "version": "2.7.6"
  }
 },
 "nbformat": 4,
 "nbformat_minor": 5
}
